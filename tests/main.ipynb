{
 "cells": [
  {
   "cell_type": "code",
   "execution_count": 2,
   "metadata": {},
   "outputs": [],
   "source": [
    "import random\n",
    "import json\n",
    "import numpy as np\n",
    "import scipy.stats\n",
    "import pickle\n",
    "from sklearn.metrics import r2_score\n",
    "from neuralplex import Network, Layer, Perceptron\n",
    "\n",
    "EPOCHS = int(1e2)"
   ]
  },
  {
   "cell_type": "code",
   "execution_count": null,
   "metadata": {},
   "outputs": [],
   "source": [
    "l1 = Layer(\n",
    "    perceptrons=[\n",
    "        Perceptron(coef=random.randint(0, 10)),\n",
    "        Perceptron(coef=random.randint(0, 10)),\n",
    "        Perceptron(coef=random.randint(0, 10)),\n",
    "        Perceptron(coef=random.randint(0, 10)),\n",
    "    ],\n",
    "    deg=1,\n",
    ")\n",
    "\n",
    "l2 = Layer(\n",
    "    perceptrons=[Perceptron(coef=random.randint(0, 1)) for i in range(0, 100)], deg=2\n",
    ")\n",
    "\n",
    "l3 = Layer(perceptrons=[Perceptron(coef=random.randint(0, 1))], deg=1)\n",
    "\n",
    "n1 = Network([l1, l2, l3])\n",
    "\n",
    "for i in range(0, EPOCHS):\n",
    "\n",
    "    n = random.randint(1, 15)\n",
    "\n",
    "    binary = [int(n) for n in bin(10)[2:]]\n",
    "\n",
    "    while len(binary) < 4:\n",
    "        binary = [0] + binary\n",
    "\n",
    "    n1.epoch(binary, [n])\n",
    "\n",
    "y_true = []\n",
    "y_pred = []\n",
    "for i in range(0, 1000):\n",
    "\n",
    "    print(i)\n",
    "    \n",
    "    rn = random.randint(1, 15)\n",
    "\n",
    "    binary = [int(n) for n in bin(rn)[2:]]\n",
    "\n",
    "    while len(binary) < 4:\n",
    "        binary = [0] + binary\n",
    "\n",
    "    n1.epoch(binary, [rn])\n",
    "\n",
    "    prediction = n1.predict(binary)\n",
    "\n",
    "    y_true.append(rn)\n",
    "    y_pred.append(prediction[0])\n",
    "\n",
    "    print(f\"{i} input: {json.dumps(binary)}, truth: {rn} prediction: {json.dumps(prediction)}\")\n",
    "\n",
    "R2 = r2_score(y_true, y_pred)\n",
    "\n",
    "print(R2)\n",
    "\n",
    "if R2 >= .7:\n",
    "    with open(\"model.pkl\", \"wb\") as f:\n",
    "        pickle.dump(n1, f)"
   ]
  },
  {
   "cell_type": "code",
   "execution_count": 4,
   "metadata": {},
   "outputs": [],
   "source": [
    "with open('model.pkl', 'rb') as f:\n",
    "    model = pickle.load(f)"
   ]
  },
  {
   "cell_type": "code",
   "execution_count": 6,
   "metadata": {},
   "outputs": [
    {
     "data": {
      "text/plain": [
       "[7.599699519244431]"
      ]
     },
     "execution_count": 6,
     "metadata": {},
     "output_type": "execute_result"
    }
   ],
   "source": [
    "model.predict([1,0,1,0])"
   ]
  },
  {
   "cell_type": "code",
   "execution_count": 7,
   "metadata": {},
   "outputs": [
    {
     "data": {
      "text/plain": [
       "[2.4993824239174125]"
      ]
     },
     "execution_count": 7,
     "metadata": {},
     "output_type": "execute_result"
    }
   ],
   "source": [
    "model.predict([0,0,1,0])"
   ]
  },
  {
   "cell_type": "code",
   "execution_count": 9,
   "metadata": {},
   "outputs": [
    {
     "data": {
      "text/plain": [
       "[15.964392542292082]"
      ]
     },
     "execution_count": 9,
     "metadata": {},
     "output_type": "execute_result"
    }
   ],
   "source": [
    "model.predict([1,1,1,1])"
   ]
  },
  {
   "cell_type": "code",
   "execution_count": 17,
   "metadata": {},
   "outputs": [
    {
     "data": {
      "text/plain": [
       "[10.20063419065404]"
      ]
     },
     "execution_count": 17,
     "metadata": {},
     "output_type": "execute_result"
    }
   ],
   "source": [
    "model.predict([1,1,0,0])"
   ]
  }
 ],
 "metadata": {
  "kernelspec": {
   "display_name": "py39",
   "language": "python",
   "name": "python3"
  },
  "language_info": {
   "codemirror_mode": {
    "name": "ipython",
    "version": 3
   },
   "file_extension": ".py",
   "mimetype": "text/x-python",
   "name": "python",
   "nbconvert_exporter": "python",
   "pygments_lexer": "ipython3",
   "version": "3.9.16"
  }
 },
 "nbformat": 4,
 "nbformat_minor": 2
}
